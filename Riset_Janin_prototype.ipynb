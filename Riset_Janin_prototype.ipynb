{
  "cells": [
    {
      "cell_type": "code",
      "execution_count": 1,
      "metadata": {
        "id": "SYC02kTNlOsa"
      },
      "outputs": [],
      "source": [
        "import os\n",
        "for dirname, _, filenames in os.walk('/kaggle/input'):\n",
        "    for filename in filenames:\n",
        "        print(os.path.join(dirname, filename))"
      ]
    },
    {
      "cell_type": "code",
      "execution_count": 2,
      "metadata": {
        "id": "mEsh6D3gSgem"
      },
      "outputs": [],
      "source": [
        "from collections import Counter\n",
        "import warnings\n",
        "warnings.filterwarnings('ignore')\n"
      ]
    },
    {
      "cell_type": "code",
      "execution_count": 3,
      "metadata": {
        "id": "yt-ckcT81NfK"
      },
      "outputs": [
        {
          "ename": "ModuleNotFoundError",
          "evalue": "No module named 'pandas'",
          "output_type": "error",
          "traceback": [
            "\u001b[1;31m---------------------------------------------------------------------------\u001b[0m",
            "\u001b[1;31mModuleNotFoundError\u001b[0m                       Traceback (most recent call last)",
            "Cell \u001b[1;32mIn[3], line 2\u001b[0m\n\u001b[0;32m      1\u001b[0m \u001b[39mimport\u001b[39;00m \u001b[39mnumpy\u001b[39;00m \u001b[39mas\u001b[39;00m \u001b[39mnp\u001b[39;00m \n\u001b[1;32m----> 2\u001b[0m \u001b[39mimport\u001b[39;00m \u001b[39mpandas\u001b[39;00m \u001b[39mas\u001b[39;00m \u001b[39mpd\u001b[39;00m \n\u001b[0;32m      3\u001b[0m \u001b[39mimport\u001b[39;00m \u001b[39mmatplotlib\u001b[39;00m\u001b[39m.\u001b[39;00m\u001b[39mpyplot\u001b[39;00m \u001b[39mas\u001b[39;00m \u001b[39mplt\u001b[39;00m\n\u001b[0;32m      4\u001b[0m \u001b[39mimport\u001b[39;00m \u001b[39mseaborn\u001b[39;00m \u001b[39mas\u001b[39;00m \u001b[39msns\u001b[39;00m\n",
            "\u001b[1;31mModuleNotFoundError\u001b[0m: No module named 'pandas'"
          ]
        }
      ],
      "source": [
        "import numpy as np \n",
        "import pandas as pd \n",
        "import matplotlib.pyplot as plt\n",
        "import seaborn as sns\n",
        "import missingno as msno\n",
        "\n",
        "from sklearn.model_selection import train_test_split\n",
        "from sklearn.preprocessing import StandardScaler\n",
        "from sklearn.pipeline import Pipeline\n",
        "\n",
        "from sklearn.linear_model import LogisticRegression\n",
        "from sklearn.tree import DecisionTreeClassifier\n",
        "from sklearn.ensemble import GradientBoostingClassifier\n",
        "from sklearn.ensemble import RandomForestClassifier\n",
        "from sklearn.neighbors import KNeighborsClassifier \n",
        "\n",
        "from sklearn.model_selection import GridSearchCV\n",
        "from sklearn.model_selection import cross_val_score\n",
        "from sklearn.metrics import confusion_matrix, classification_report, accuracy_score\n",
        "from sklearn import metrics\n",
        "from sklearn.metrics import roc_curve, auc, roc_auc_score"
      ]
    },
    {
      "cell_type": "code",
      "execution_count": null,
      "metadata": {
        "colab": {
          "base_uri": "https://localhost:8080/"
        },
        "id": "ANNY528sxfYg",
        "outputId": "0da1d952-d25c-4f41-9996-f09967eebe36"
      },
      "outputs": [],
      "source": [
        "from google.colab import drive \n",
        "drive.mount('/content/gdrive')"
      ]
    },
    {
      "cell_type": "code",
      "execution_count": null,
      "metadata": {
        "colab": {
          "base_uri": "https://localhost:8080/",
          "height": 427
        },
        "id": "9PLp5bPZxlH5",
        "outputId": "232d6267-22e2-4145-9e1b-21bc1466b126"
      },
      "outputs": [],
      "source": [
        "data_df=pd.read_csv('gdrive/My Drive/DeepLearning/FETAL_HEALTH.csv')\n",
        "data_df.sample(10)"
      ]
    },
    {
      "cell_type": "code",
      "execution_count": null,
      "metadata": {
        "colab": {
          "base_uri": "https://localhost:8080/"
        },
        "id": "D7pjrUjaJABo",
        "outputId": "986ffbb3-e2af-42e0-f14b-e27ba790c55e"
      },
      "outputs": [],
      "source": [
        "data_df.shape"
      ]
    },
    {
      "cell_type": "code",
      "execution_count": null,
      "metadata": {
        "colab": {
          "base_uri": "https://localhost:8080/"
        },
        "id": "-wb3v04bJm43",
        "outputId": "afa71dc5-33fd-4215-f317-a06f7421c8f7"
      },
      "outputs": [],
      "source": [
        "duplicate_rows_data = data_df[data_df.duplicated()]\n",
        "print(\"number of duplicate rows: \", duplicate_rows_data.shape)\n",
        "data_df.drop_duplicates(inplace=True)"
      ]
    },
    {
      "cell_type": "code",
      "execution_count": null,
      "metadata": {
        "colab": {
          "base_uri": "https://localhost:8080/"
        },
        "id": "0N-P85YgcDIf",
        "outputId": "e389ab9f-eb3d-4b57-d36e-d7c5092958b6"
      },
      "outputs": [],
      "source": [
        "# Checking for missing values and categorical variables in the dataset\n",
        "data_df.info()"
      ]
    },
    {
      "cell_type": "code",
      "execution_count": null,
      "metadata": {
        "colab": {
          "base_uri": "https://localhost:8080/",
          "height": 963
        },
        "id": "b4XTVSdJcG48",
        "outputId": "8e8bdd78-2f7d-412c-9c16-9548558384a6"
      },
      "outputs": [],
      "source": [
        "# Visualizing the missing values in the dataset, \n",
        "missing_values = msno.bar(data_df, figsize = (16,5),color = \"#483D8B\")"
      ]
    },
    {
      "cell_type": "code",
      "execution_count": null,
      "metadata": {
        "colab": {
          "base_uri": "https://localhost:8080/",
          "height": 332
        },
        "id": "SXLAtfVRcOkt",
        "outputId": "185db4df-9655-459c-dc1b-6812310e91cb"
      },
      "outputs": [],
      "source": [
        "# Doing Univariate Analysis for statistical description and understanding of dispersion of data\n",
        "data_df.describe().T"
      ]
    },
    {
      "cell_type": "code",
      "execution_count": null,
      "metadata": {
        "colab": {
          "base_uri": "https://localhost:8080/",
          "height": 1000
        },
        "id": "UZ0isEUScQ7t",
        "outputId": "b7e767a5-1b5a-40fa-eef3-7b5a19eabfd5"
      },
      "outputs": [],
      "source": [
        "# Evaluating distributions of the features \n",
        "hist_plot = data_df.hist(figsize = (20,20), color = \"#483D8B\")"
      ]
    },
    {
      "cell_type": "code",
      "execution_count": null,
      "metadata": {
        "colab": {
          "base_uri": "https://localhost:8080/",
          "height": 450
        },
        "id": "TKeTIfjQcTkZ",
        "outputId": "28ac1895-102a-42af-b202-bae96d76550f"
      },
      "outputs": [],
      "source": [
        "# Evaluating the target column and checking for imbalance of the data, \n",
        "colors=[\"#483D8B\",\"#4682B4\", \"#87CEFA\"]\n",
        "ax = sns.countplot(data= data_df, x=\"fetal_health\", palette=colors)\n",
        "ax.bar_label(ax.containers[0])\n",
        "plt.show()"
      ]
    },
    {
      "cell_type": "code",
      "execution_count": null,
      "metadata": {
        "colab": {
          "base_uri": "https://localhost:8080/",
          "height": 1000
        },
        "id": "_LeuHGxwcZyM",
        "outputId": "5ecd3e50-b5ee-4fd1-95d6-1d9097ae9e63"
      },
      "outputs": [],
      "source": [
        "# Examining correlation matrix using heatmap\n",
        "cmap = sns.diverging_palette(205, 133, 63, as_cmap=True)\n",
        "cols = ([\"#B0E0E6\", \"#87CEFA\", \"#4682B4\", \"#CD853F\", \"#DEB887\", \"#FAEBD7\"])\n",
        "\n",
        "corrmat= data_df.corr()\n",
        "\n",
        "f, ax = plt.subplots(figsize=(15,15))\n",
        "sns.heatmap(corrmat,cmap=cols,annot=True)\n",
        "plt.show()"
      ]
    },
    {
      "cell_type": "code",
      "execution_count": null,
      "metadata": {
        "id": "6US6E8NTc5QI"
      },
      "outputs": [],
      "source": [
        "# Defining independent and dependent attributes in training and test sets\n",
        "X=data_df.drop([\"fetal_health\"],axis=1)\n",
        "y=data_df[\"fetal_health\"]"
      ]
    },
    {
      "cell_type": "code",
      "execution_count": null,
      "metadata": {
        "colab": {
          "base_uri": "https://localhost:8080/",
          "height": 300
        },
        "id": "nxs6DLVuc5z0",
        "outputId": "f2494fe7-580b-43fe-8a01-7604cffe8c54"
      },
      "outputs": [],
      "source": [
        "# Setting up a standard scaler for the features and analyzing it thereafter\n",
        "col_names = list(X.columns)\n",
        "s_scaler = StandardScaler()\n",
        "X_scaled= s_scaler.fit_transform(X)\n",
        "X_scaled = pd.DataFrame(X_scaled, columns=col_names)   \n",
        "X_scaled.describe().T"
      ]
    },
    {
      "cell_type": "code",
      "execution_count": null,
      "metadata": {
        "id": "wzJfL36Yc8CZ"
      },
      "outputs": [],
      "source": [
        "features=['accelerations', 'fetal_movement','uterine_contractions', 'light_decelerations', 'severe_decelerations',\n",
        "           'prolongued_decelerations', 'abnormal_short_term_variability', \n",
        "             'percentage_of_time_with_abnormal_long_term_variability']"
      ]
    },
    {
      "cell_type": "code",
      "execution_count": null,
      "metadata": {
        "colab": {
          "base_uri": "https://localhost:8080/",
          "height": 1000
        },
        "id": "vXheo3tuc_8W",
        "outputId": "87ce9826-a124-49e6-ac65-cc1c3ad05443"
      },
      "outputs": [],
      "source": [
        "#Plotting the scaled features using boxen plots\n",
        "plt.figure(figsize=(20,10))\n",
        "sns.boxenplot(data = X_scaled,palette = colors)\n",
        "plt.xticks(rotation=60)\n",
        "plt.show()"
      ]
    },
    {
      "cell_type": "code",
      "execution_count": null,
      "metadata": {
        "id": "--k6YvvUdFba"
      },
      "outputs": [],
      "source": [
        "# Splitting the training and test variables\n",
        "X_train, X_test, y_train, y_test = train_test_split(X, y,test_size=0.20, random_state=25)"
      ]
    },
    {
      "cell_type": "markdown",
      "metadata": {
        "id": "97jcu22zS5rS"
      },
      "source": [
        "**Membuat Machine Learning Model Menggunakan Algoritma Random Forest**"
      ]
    },
    {
      "cell_type": "code",
      "execution_count": null,
      "metadata": {
        "id": "kvN6VLbmx6n4"
      },
      "outputs": [],
      "source": [
        "# Building pipelines of model for various classifiers\n",
        "\n",
        "pipeline_lr = Pipeline([('lr_classifier',LogisticRegression())])\n",
        "\n",
        "pipeline_dt = Pipeline([('dt_classifier',DecisionTreeClassifier())])\n",
        "\n",
        "pipeline_gbcl = Pipeline([('gbcl_classifier',GradientBoostingClassifier())])\n",
        "\n",
        "pipeline_rf = Pipeline([('rf_classifier',RandomForestClassifier())])\n",
        "\n",
        "pipeline_knn = Pipeline([('knn_classifier',KNeighborsClassifier())])\n",
        "\n",
        "# List of all the pipelines\n",
        "pipelines = [pipeline_lr, pipeline_dt, pipeline_gbcl, pipeline_rf, pipeline_knn]\n",
        "\n",
        "# Dictionary of pipelines and classifier types for ease of reference\n",
        "pipe_dict = {0: 'Logistic Regression', 1: 'Decision Tree', 2: 'Gradient Boost', 3:'RandomForest', 4: 'KNN'}\n",
        "\n",
        "# Fitting the pipelines\n",
        "for pipe in pipelines:\n",
        "    pipe.fit(X_train, y_train)"
      ]
    },
    {
      "cell_type": "code",
      "execution_count": null,
      "metadata": {
        "colab": {
          "base_uri": "https://localhost:8080/"
        },
        "id": "FQpKg_kvdVfv",
        "outputId": "92b186dc-5a29-48ac-a636-c373f3105dd5"
      },
      "outputs": [],
      "source": [
        "\n",
        "cv_results_accuracy = []\n",
        "for i, model in enumerate(pipelines):\n",
        "    cv_score = cross_val_score(model, X_train,y_train, cv=12)\n",
        "    cv_results_accuracy.append(cv_score)\n",
        "    print(\"%s: %f \" % (pipe_dict[i], cv_score.mean()))"
      ]
    },
    {
      "cell_type": "code",
      "execution_count": null,
      "metadata": {
        "colab": {
          "base_uri": "https://localhost:8080/"
        },
        "id": "ayvoTFxYnQPQ",
        "outputId": "3807c48f-9756-47f0-f057-298394d62393"
      },
      "outputs": [],
      "source": [
        "# Model dasar RF dengan parameter default:\n",
        "\n",
        "random_forest = RandomForestClassifier()\n",
        "random_forest_mod = random_forest.fit(X_train, y_train)\n",
        "print(f\"Baseline Random Forest: {round(random_forest_mod.score(X_test, y_test), 3)}\")\n",
        "\n",
        "pred_random_forest = random_forest_mod.predict(X_test)"
      ]
    },
    {
      "cell_type": "code",
      "execution_count": null,
      "metadata": {
        "colab": {
          "base_uri": "https://localhost:8080/"
        },
        "id": "4ioLfVk7nj6x",
        "outputId": "d5fd397a-bd3d-4f12-bd63-05df677aded5"
      },
      "outputs": [],
      "source": [
        "# Cross validate Random forest model\n",
        "scores_RF = cross_val_score(random_forest, X_train, y_train, cv = 10, n_jobs = 2, scoring = \"accuracy\")\n",
        "\n",
        "print(f\"Scores(Cross validate) for Random forest model:\\n{scores_RF}\")\n",
        "print(f\"CrossValMeans: {round(scores_RF.mean(), 2)}\")\n",
        "print(f\"CrossValStandard Deviation: {round(scores_RF.std(), 2)}\")"
      ]
    },
    {
      "cell_type": "code",
      "execution_count": null,
      "metadata": {
        "id": "DcYV7G57dmlQ"
      },
      "outputs": [],
      "source": [
        "params_RF = {\"min_samples_split\": [2, 6, 20],\n",
        "              \"min_samples_leaf\": [1, 4, 16],\n",
        "              \"n_estimators\" :[100,200,300,400],\n",
        "              \"criterion\": [\"gini\"]             \n",
        "              }"
      ]
    },
    {
      "cell_type": "code",
      "execution_count": null,
      "metadata": {
        "id": "xpZ7yxfjpzsI"
      },
      "outputs": [],
      "source": [
        "GridSearchCV_RF = GridSearchCV(estimator=RandomForestClassifier(), \n",
        "                                param_grid=params_RF,\n",
        "                                cv=2,\n",
        "                                verbose=1, \n",
        "                                n_jobs=2,\n",
        "                                scoring=\"accuracy\", \n",
        "                                return_train_score=True\n",
        "                                )"
      ]
    },
    {
      "cell_type": "code",
      "execution_count": null,
      "metadata": {
        "colab": {
          "base_uri": "https://localhost:8080/"
        },
        "id": "fAvKQ_MAoItA",
        "outputId": "cc6bb490-1259-45c2-bf4f-d5801c4b8dae"
      },
      "outputs": [],
      "source": [
        "# Fit model with train data\n",
        "GridSearchCV_RF.fit(X_train, y_train);"
      ]
    },
    {
      "cell_type": "code",
      "execution_count": null,
      "metadata": {
        "colab": {
          "base_uri": "https://localhost:8080/"
        },
        "id": "1s4MowEAsmY3",
        "outputId": "a879c143-d824-4d58-ca49-12faa1d78d36"
      },
      "outputs": [],
      "source": [
        "best_estimator_RF = GridSearchCV_RF.best_estimator_\n",
        "print(f\"Best estimator for RF model:\\n{best_estimator_RF}\")"
      ]
    },
    {
      "cell_type": "code",
      "execution_count": null,
      "metadata": {
        "colab": {
          "base_uri": "https://localhost:8080/"
        },
        "id": "3OiPS0IRoTdf",
        "outputId": "752c933b-444d-4fbc-ebd7-7722c9319d79"
      },
      "outputs": [],
      "source": [
        "best_params_RF = GridSearchCV_RF.best_params_\n",
        "print(f\"Best parameter values for RF model:\\n{best_params_RF}\")"
      ]
    },
    {
      "cell_type": "code",
      "execution_count": null,
      "metadata": {
        "colab": {
          "base_uri": "https://localhost:8080/"
        },
        "id": "4qk1p0VlspO3",
        "outputId": "044a6e9f-8170-401a-f8a7-b8cf167cc172"
      },
      "outputs": [],
      "source": [
        "best_score_RF = GridSearchCV_RF.best_score_\n",
        "print(f\"Best score for RF model: {round(best_score_RF, 3)}\")"
      ]
    },
    {
      "cell_type": "code",
      "execution_count": null,
      "metadata": {
        "id": "dxXPq8lFsGTA"
      },
      "outputs": [],
      "source": [
        "random_forest = RandomForestClassifier(criterion=\"gini\", n_estimators=100, min_samples_leaf=1, min_samples_split=2, random_state=42)\n",
        "random_forest_mod = random_forest.fit(X_train, y_train)\n",
        "pred_random_forest = random_forest_mod.predict(X_test)\n",
        "\n",
        "score_random_forest_train = random_forest_mod.score(X_train, y_train)\n",
        "score_random_forest_test = random_forest_mod.score(X_test, y_test)"
      ]
    },
    {
      "cell_type": "code",
      "execution_count": null,
      "metadata": {
        "colab": {
          "base_uri": "https://localhost:8080/"
        },
        "id": "IQB-qJ9JsWHY",
        "outputId": "668efe12-39cf-4658-d891-4d1dddf6052b"
      },
      "outputs": [],
      "source": [
        "print(f\"R^2(coefficient of determination) on training set = {round(score_random_forest_train, 3)}\")\n",
        "print(f\"R^2(coefficient of determination) on testing set = {round(score_random_forest_test, 3)}\")"
      ]
    },
    {
      "cell_type": "code",
      "execution_count": null,
      "metadata": {
        "colab": {
          "base_uri": "https://localhost:8080/"
        },
        "id": "aMGkTt-AdxyH",
        "outputId": "4c9dc281-3a18-4a8c-a955-7aea62cd0832"
      },
      "outputs": [],
      "source": [
        "# Getting score on the Test set, \n",
        "\n",
        "pred_random_forest = pipeline_rf.predict(X_test)\n",
        "accuracy = accuracy_score(y_test, pred_random_forest)\n",
        "print(f\" Testing Score of the model is {accuracy}\")"
      ]
    },
    {
      "cell_type": "code",
      "execution_count": null,
      "metadata": {
        "colab": {
          "base_uri": "https://localhost:8080/"
        },
        "id": "8z8w1AVldzq4",
        "outputId": "8b2e05d1-ef5a-4fbc-83ce-6c35c34e18f4"
      },
      "outputs": [],
      "source": [
        "# Getting the Classification report \n",
        "print(classification_report(y_test, pred_random_forest))"
      ]
    },
    {
      "cell_type": "code",
      "execution_count": null,
      "metadata": {
        "colab": {
          "base_uri": "https://localhost:8080/",
          "height": 676
        },
        "id": "5TQIVdajd5pI",
        "outputId": "6d4449d6-cd34-43eb-c43c-78b4569faffa"
      },
      "outputs": [],
      "source": [
        "# Getting the Confusion matrix\n",
        "plt.subplots(figsize=(12,8))\n",
        "cf_matrix = confusion_matrix(y_test, pred_random_forest)\n",
        "sns.heatmap(cf_matrix/np.sum(cf_matrix), cmap='viridis',annot = True, annot_kws = {'size':20})\n",
        "plt.show()"
      ]
    },
    {
      "cell_type": "markdown",
      "metadata": {
        "id": "6ZtKaDQp5duw"
      },
      "source": [
        "# Mengimport model Ke pickle"
      ]
    },
    {
      "cell_type": "code",
      "execution_count": null,
      "metadata": {
        "id": "v2hprGVIOJBQ"
      },
      "outputs": [],
      "source": [
        "import pickle"
      ]
    },
    {
      "cell_type": "code",
      "execution_count": null,
      "metadata": {
        "id": "6aFGeFdP1O3Q"
      },
      "outputs": [],
      "source": [
        "with open('rf_pickle','wb') as r:\n",
        "  pickle.dump(random_forest,r)"
      ]
    },
    {
      "cell_type": "code",
      "execution_count": null,
      "metadata": {
        "id": "jN1AsZgV4EgH"
      },
      "outputs": [],
      "source": [
        "with open('rf_pickle','rb') as r:\n",
        "  rfp = pickle.load(r)"
      ]
    },
    {
      "cell_type": "code",
      "execution_count": null,
      "metadata": {
        "colab": {
          "base_uri": "https://localhost:8080/"
        },
        "id": "XFtCCnFd4P8f",
        "outputId": "44f29344-2061-49c8-9c02-08a0bf0e4a6c"
      },
      "outputs": [],
      "source": [
        "pred_random_forest = random_forest_mod.predict(X_test)\n",
        "\n",
        "round(accuracy_score(y_test, pred_random_forest),3)"
      ]
    },
    {
      "cell_type": "code",
      "execution_count": null,
      "metadata": {},
      "outputs": [],
      "source": []
    }
  ],
  "metadata": {
    "colab": {
      "provenance": []
    },
    "kernelspec": {
      "display_name": "Python 3.10.6 ('env': venv)",
      "language": "python",
      "name": "python3"
    },
    "language_info": {
      "codemirror_mode": {
        "name": "ipython",
        "version": 3
      },
      "file_extension": ".py",
      "mimetype": "text/x-python",
      "name": "python",
      "nbconvert_exporter": "python",
      "pygments_lexer": "ipython3",
      "version": "3.10.6"
    },
    "vscode": {
      "interpreter": {
        "hash": "a3cb6772a7706cc3423748a5b2de17fd381b049f31da888905d3f6c990bfe339"
      }
    }
  },
  "nbformat": 4,
  "nbformat_minor": 0
}
